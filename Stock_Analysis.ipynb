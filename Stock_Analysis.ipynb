{
 "cells": [
  {
   "cell_type": "code",
   "execution_count": 28,
   "metadata": {
    "collapsed": true
   },
   "outputs": [],
   "source": [
    "import pandas as pd\n",
    "import numpy as np \n",
    "from pandas import Series,DataFrame\n",
    "from pandas_datareader import data\n",
    "import matplotlib.pyplot as plt\n",
    "import seaborn as sns\n",
    "import datetime as dt\n",
    "%matplotlib inline"
   ]
  },
  {
   "cell_type": "code",
   "execution_count": 130,
   "metadata": {
    "collapsed": true
   },
   "outputs": [],
   "source": [
    "# Define the instruments to download. \n",
    "tickers = ['DOW','SPY','GOOG']"
   ]
  },
  {
   "cell_type": "code",
   "execution_count": 131,
   "metadata": {
    "collapsed": true
   },
   "outputs": [],
   "source": [
    "# Define which online source one should use\n",
    "data_source = 'google'"
   ]
  },
  {
   "cell_type": "code",
   "execution_count": 132,
   "metadata": {
    "collapsed": true
   },
   "outputs": [],
   "source": [
    "# We would like all available data from 01/01/2000 until 12/31/2016.\n",
    "start_date = '2014-03-07'\n",
    "end_date = '2016-12-31'"
   ]
  },
  {
   "cell_type": "code",
   "execution_count": 1,
   "metadata": {},
   "outputs": [
    {
     "ename": "NameError",
     "evalue": "name 'data' is not defined",
     "output_type": "error",
     "traceback": [
      "\u001b[1;31m---------------------------------------------------------------------------\u001b[0m",
      "\u001b[1;31mNameError\u001b[0m                                 Traceback (most recent call last)",
      "\u001b[1;32m<ipython-input-1-af853221fe8d>\u001b[0m in \u001b[0;36m<module>\u001b[1;34m()\u001b[0m\n\u001b[0;32m      1\u001b[0m \u001b[1;31m# User pandas_reader.data.DataReader to load the desired data. As simple as that.\u001b[0m\u001b[1;33m\u001b[0m\u001b[1;33m\u001b[0m\u001b[0m\n\u001b[1;32m----> 2\u001b[1;33m \u001b[0mpanel_data\u001b[0m \u001b[1;33m=\u001b[0m \u001b[0mdata\u001b[0m\u001b[1;33m.\u001b[0m\u001b[0mDataReader\u001b[0m\u001b[1;33m(\u001b[0m\u001b[0mtickers\u001b[0m\u001b[1;33m,\u001b[0m \u001b[0mdata_source\u001b[0m\u001b[1;33m,\u001b[0m \u001b[0mstart_date\u001b[0m\u001b[1;33m,\u001b[0m \u001b[0mend_date\u001b[0m\u001b[1;33m)\u001b[0m\u001b[1;33m\u001b[0m\u001b[0m\n\u001b[0m",
      "\u001b[1;31mNameError\u001b[0m: name 'data' is not defined"
     ]
    }
   ],
   "source": [
    "# User pandas_reader.data.DataReader to load the desired data. As simple as that.\n",
    "panel_data = data.DataReader(tickers, data_source, start_date, end_date)"
   ]
  },
  {
   "cell_type": "code",
   "execution_count": 134,
   "metadata": {
    "collapsed": true
   },
   "outputs": [],
   "source": [
    "dow_df = panel_data.to_frame()"
   ]
  },
  {
   "cell_type": "code",
   "execution_count": 135,
   "metadata": {},
   "outputs": [
    {
     "data": {
      "text/html": [
       "<div>\n",
       "<style>\n",
       "    .dataframe thead tr:only-child th {\n",
       "        text-align: right;\n",
       "    }\n",
       "\n",
       "    .dataframe thead th {\n",
       "        text-align: left;\n",
       "    }\n",
       "\n",
       "    .dataframe tbody tr th {\n",
       "        vertical-align: top;\n",
       "    }\n",
       "</style>\n",
       "<table border=\"1\" class=\"dataframe\">\n",
       "  <thead>\n",
       "    <tr style=\"text-align: right;\">\n",
       "      <th></th>\n",
       "      <th></th>\n",
       "      <th>Open</th>\n",
       "      <th>High</th>\n",
       "      <th>Low</th>\n",
       "      <th>Close</th>\n",
       "      <th>Volume</th>\n",
       "    </tr>\n",
       "    <tr>\n",
       "      <th>Date</th>\n",
       "      <th>minor</th>\n",
       "      <th></th>\n",
       "      <th></th>\n",
       "      <th></th>\n",
       "      <th></th>\n",
       "      <th></th>\n",
       "    </tr>\n",
       "  </thead>\n",
       "  <tbody>\n",
       "    <tr>\n",
       "      <th>2014-03-07</th>\n",
       "      <th>DOW</th>\n",
       "      <td>49.91</td>\n",
       "      <td>49.98</td>\n",
       "      <td>49.30</td>\n",
       "      <td>49.51</td>\n",
       "      <td>5807436.0</td>\n",
       "    </tr>\n",
       "    <tr>\n",
       "      <th>2014-03-10</th>\n",
       "      <th>DOW</th>\n",
       "      <td>49.35</td>\n",
       "      <td>49.94</td>\n",
       "      <td>49.18</td>\n",
       "      <td>49.83</td>\n",
       "      <td>6228830.0</td>\n",
       "    </tr>\n",
       "    <tr>\n",
       "      <th>2014-03-11</th>\n",
       "      <th>DOW</th>\n",
       "      <td>49.67</td>\n",
       "      <td>49.87</td>\n",
       "      <td>49.14</td>\n",
       "      <td>49.26</td>\n",
       "      <td>7743322.0</td>\n",
       "    </tr>\n",
       "    <tr>\n",
       "      <th>2014-03-12</th>\n",
       "      <th>DOW</th>\n",
       "      <td>49.00</td>\n",
       "      <td>49.22</td>\n",
       "      <td>48.76</td>\n",
       "      <td>49.03</td>\n",
       "      <td>6539863.0</td>\n",
       "    </tr>\n",
       "    <tr>\n",
       "      <th>2014-03-13</th>\n",
       "      <th>DOW</th>\n",
       "      <td>49.25</td>\n",
       "      <td>49.66</td>\n",
       "      <td>48.47</td>\n",
       "      <td>48.74</td>\n",
       "      <td>6413274.0</td>\n",
       "    </tr>\n",
       "  </tbody>\n",
       "</table>\n",
       "</div>"
      ],
      "text/plain": [
       "                   Open   High    Low  Close     Volume\n",
       "Date       minor                                       \n",
       "2014-03-07 DOW    49.91  49.98  49.30  49.51  5807436.0\n",
       "2014-03-10 DOW    49.35  49.94  49.18  49.83  6228830.0\n",
       "2014-03-11 DOW    49.67  49.87  49.14  49.26  7743322.0\n",
       "2014-03-12 DOW    49.00  49.22  48.76  49.03  6539863.0\n",
       "2014-03-13 DOW    49.25  49.66  48.47  48.74  6413274.0"
      ]
     },
     "execution_count": 135,
     "metadata": {},
     "output_type": "execute_result"
    }
   ],
   "source": [
    "dow_df.head()"
   ]
  },
  {
   "cell_type": "code",
   "execution_count": 137,
   "metadata": {
    "collapsed": true
   },
   "outputs": [],
   "source": [
    "dow_df = dow_df.reset_index()"
   ]
  },
  {
   "cell_type": "code",
   "execution_count": 138,
   "metadata": {},
   "outputs": [
    {
     "data": {
      "text/html": [
       "<div>\n",
       "<style>\n",
       "    .dataframe thead tr:only-child th {\n",
       "        text-align: right;\n",
       "    }\n",
       "\n",
       "    .dataframe thead th {\n",
       "        text-align: left;\n",
       "    }\n",
       "\n",
       "    .dataframe tbody tr th {\n",
       "        vertical-align: top;\n",
       "    }\n",
       "</style>\n",
       "<table border=\"1\" class=\"dataframe\">\n",
       "  <thead>\n",
       "    <tr style=\"text-align: right;\">\n",
       "      <th></th>\n",
       "      <th>index</th>\n",
       "      <th>Date</th>\n",
       "      <th>minor</th>\n",
       "      <th>Open</th>\n",
       "      <th>High</th>\n",
       "      <th>Low</th>\n",
       "      <th>Close</th>\n",
       "      <th>Volume</th>\n",
       "    </tr>\n",
       "  </thead>\n",
       "  <tbody>\n",
       "    <tr>\n",
       "      <th>0</th>\n",
       "      <td>0</td>\n",
       "      <td>2014-03-07</td>\n",
       "      <td>DOW</td>\n",
       "      <td>49.91</td>\n",
       "      <td>49.98</td>\n",
       "      <td>49.30</td>\n",
       "      <td>49.51</td>\n",
       "      <td>5807436.0</td>\n",
       "    </tr>\n",
       "    <tr>\n",
       "      <th>1</th>\n",
       "      <td>1</td>\n",
       "      <td>2014-03-10</td>\n",
       "      <td>DOW</td>\n",
       "      <td>49.35</td>\n",
       "      <td>49.94</td>\n",
       "      <td>49.18</td>\n",
       "      <td>49.83</td>\n",
       "      <td>6228830.0</td>\n",
       "    </tr>\n",
       "    <tr>\n",
       "      <th>2</th>\n",
       "      <td>2</td>\n",
       "      <td>2014-03-11</td>\n",
       "      <td>DOW</td>\n",
       "      <td>49.67</td>\n",
       "      <td>49.87</td>\n",
       "      <td>49.14</td>\n",
       "      <td>49.26</td>\n",
       "      <td>7743322.0</td>\n",
       "    </tr>\n",
       "    <tr>\n",
       "      <th>3</th>\n",
       "      <td>3</td>\n",
       "      <td>2014-03-12</td>\n",
       "      <td>DOW</td>\n",
       "      <td>49.00</td>\n",
       "      <td>49.22</td>\n",
       "      <td>48.76</td>\n",
       "      <td>49.03</td>\n",
       "      <td>6539863.0</td>\n",
       "    </tr>\n",
       "    <tr>\n",
       "      <th>4</th>\n",
       "      <td>4</td>\n",
       "      <td>2014-03-13</td>\n",
       "      <td>DOW</td>\n",
       "      <td>49.25</td>\n",
       "      <td>49.66</td>\n",
       "      <td>48.47</td>\n",
       "      <td>48.74</td>\n",
       "      <td>6413274.0</td>\n",
       "    </tr>\n",
       "  </tbody>\n",
       "</table>\n",
       "</div>"
      ],
      "text/plain": [
       "   index       Date minor   Open   High    Low  Close     Volume\n",
       "0      0 2014-03-07   DOW  49.91  49.98  49.30  49.51  5807436.0\n",
       "1      1 2014-03-10   DOW  49.35  49.94  49.18  49.83  6228830.0\n",
       "2      2 2014-03-11   DOW  49.67  49.87  49.14  49.26  7743322.0\n",
       "3      3 2014-03-12   DOW  49.00  49.22  48.76  49.03  6539863.0\n",
       "4      4 2014-03-13   DOW  49.25  49.66  48.47  48.74  6413274.0"
      ]
     },
     "execution_count": 138,
     "metadata": {},
     "output_type": "execute_result"
    }
   ],
   "source": [
    "dow_df.head()"
   ]
  },
  {
   "cell_type": "code",
   "execution_count": 139,
   "metadata": {
    "collapsed": true
   },
   "outputs": [],
   "source": [
    "tickers = ['SPY'] #,'GOOG']\n",
    "panel_data = data.DataReader(tickers, data_source, start_date, end_date)"
   ]
  },
  {
   "cell_type": "code",
   "execution_count": 140,
   "metadata": {
    "collapsed": true
   },
   "outputs": [],
   "source": [
    "spy_df = panel_data.to_frame()"
   ]
  },
  {
   "cell_type": "code",
   "execution_count": 143,
   "metadata": {
    "collapsed": true
   },
   "outputs": [],
   "source": [
    "spy_df = spy_df.reset_index()"
   ]
  },
  {
   "cell_type": "code",
   "execution_count": 144,
   "metadata": {},
   "outputs": [
    {
     "data": {
      "text/html": [
       "<div>\n",
       "<style>\n",
       "    .dataframe thead tr:only-child th {\n",
       "        text-align: right;\n",
       "    }\n",
       "\n",
       "    .dataframe thead th {\n",
       "        text-align: left;\n",
       "    }\n",
       "\n",
       "    .dataframe tbody tr th {\n",
       "        vertical-align: top;\n",
       "    }\n",
       "</style>\n",
       "<table border=\"1\" class=\"dataframe\">\n",
       "  <thead>\n",
       "    <tr style=\"text-align: right;\">\n",
       "      <th></th>\n",
       "      <th>index</th>\n",
       "      <th>Date</th>\n",
       "      <th>minor</th>\n",
       "      <th>Open</th>\n",
       "      <th>High</th>\n",
       "      <th>Low</th>\n",
       "      <th>Close</th>\n",
       "      <th>Volume</th>\n",
       "    </tr>\n",
       "  </thead>\n",
       "  <tbody>\n",
       "    <tr>\n",
       "      <th>0</th>\n",
       "      <td>0</td>\n",
       "      <td>2014-03-07</td>\n",
       "      <td>SPY</td>\n",
       "      <td>188.87</td>\n",
       "      <td>188.96</td>\n",
       "      <td>187.43</td>\n",
       "      <td>188.26</td>\n",
       "      <td>114513432.0</td>\n",
       "    </tr>\n",
       "    <tr>\n",
       "      <th>1</th>\n",
       "      <td>1</td>\n",
       "      <td>2014-03-10</td>\n",
       "      <td>SPY</td>\n",
       "      <td>187.94</td>\n",
       "      <td>188.23</td>\n",
       "      <td>187.08</td>\n",
       "      <td>188.16</td>\n",
       "      <td>74939176.0</td>\n",
       "    </tr>\n",
       "    <tr>\n",
       "      <th>2</th>\n",
       "      <td>2</td>\n",
       "      <td>2014-03-11</td>\n",
       "      <td>SPY</td>\n",
       "      <td>188.44</td>\n",
       "      <td>188.71</td>\n",
       "      <td>186.80</td>\n",
       "      <td>187.23</td>\n",
       "      <td>99009013.0</td>\n",
       "    </tr>\n",
       "    <tr>\n",
       "      <th>3</th>\n",
       "      <td>3</td>\n",
       "      <td>2014-03-12</td>\n",
       "      <td>SPY</td>\n",
       "      <td>186.32</td>\n",
       "      <td>187.35</td>\n",
       "      <td>185.90</td>\n",
       "      <td>187.28</td>\n",
       "      <td>104824323.0</td>\n",
       "    </tr>\n",
       "    <tr>\n",
       "      <th>4</th>\n",
       "      <td>4</td>\n",
       "      <td>2014-03-13</td>\n",
       "      <td>SPY</td>\n",
       "      <td>187.84</td>\n",
       "      <td>187.99</td>\n",
       "      <td>184.66</td>\n",
       "      <td>185.18</td>\n",
       "      <td>155014237.0</td>\n",
       "    </tr>\n",
       "  </tbody>\n",
       "</table>\n",
       "</div>"
      ],
      "text/plain": [
       "   index       Date minor    Open    High     Low   Close       Volume\n",
       "0      0 2014-03-07   SPY  188.87  188.96  187.43  188.26  114513432.0\n",
       "1      1 2014-03-10   SPY  187.94  188.23  187.08  188.16   74939176.0\n",
       "2      2 2014-03-11   SPY  188.44  188.71  186.80  187.23   99009013.0\n",
       "3      3 2014-03-12   SPY  186.32  187.35  185.90  187.28  104824323.0\n",
       "4      4 2014-03-13   SPY  187.84  187.99  184.66  185.18  155014237.0"
      ]
     },
     "execution_count": 144,
     "metadata": {},
     "output_type": "execute_result"
    }
   ],
   "source": [
    "spy_df.head()"
   ]
  },
  {
   "cell_type": "code",
   "execution_count": 151,
   "metadata": {},
   "outputs": [
    {
     "data": {
      "text/plain": [
       "<matplotlib.axes._subplots.AxesSubplot at 0x2d529e17a58>"
      ]
     },
     "execution_count": 151,
     "metadata": {},
     "output_type": "execute_result"
    },
    {
     "data": {
      "image/png": "[encoded data removed]",
      "text/plain": [
       "<matplotlib.figure.Figure at 0x2d529c60dd8>"
      ]
     },
     "metadata": {},
     "output_type": "display_data"
    },
    {
     "data": {
      "image/png": "[encoded data removed]",
      "text/plain": [
       "<matplotlib.figure.Figure at 0x2d529d96400>"
      ]
     },
     "metadata": {},
     "output_type": "display_data"
    },
    {
     "data": {
      "image/png": "[encoded data removed]",
      "text/plain": [
       "<matplotlib.figure.Figure at 0x2d529e69c18>"
      ]
     },
     "metadata": {},
     "output_type": "display_data"
    }
   ],
   "source": [
    "spy_df.plot(kind='scatter',x='index',y='Close',color='g')\n",
    "dow_df.plot(kind='scatter',x='index',y='Close')\n",
    "goog_df.plot(kind='scatter',x='index',y='Close',color='k')"
   ]
  },
  {
   "cell_type": "code",
   "execution_count": 152,
   "metadata": {},
   "outputs": [
    {
     "data": {
      "text/plain": [
       "<seaborn.axisgrid.JointGrid at 0x2d529d76d68>"
      ]
     },
     "execution_count": 152,
     "metadata": {},
     "output_type": "execute_result"
    },
    {
     "data": {
      "image/png": "[encoded data removed]",
      "text/plain": [
       "<matplotlib.figure.Figure at 0x2d529d76d30>"
      ]
     },
     "metadata": {},
     "output_type": "display_data"
    }
   ],
   "source": [
    "sns.jointplot(dow_df['Close'],goog_df['Close'],kind='hex')"
   ]
  },
  {
   "cell_type": "code",
   "execution_count": 153,
   "metadata": {},
   "outputs": [
    {
     "data": {
      "text/plain": [
       "(array([ 0.00187709,  0.00799997,  0.00442456,  0.00107262,  0.0017877 ,\n",
       "         0.00107262,  0.00303909,  0.00384356,  0.0042011 ,  0.00187709]),\n",
       " array([ 492.55 ,  524.606,  556.662,  588.718,  620.774,  652.83 ,\n",
       "         684.886,  716.942,  748.998,  781.054,  813.11 ]),\n",
       " <a list of 10 Patch objects>)"
      ]
     },
     "execution_count": 153,
     "metadata": {},
     "output_type": "execute_result"
    },
    {
     "data": {
      "image/png": "[encoded data removed]",
      "text/plain": [
       "<matplotlib.figure.Figure at 0x2d52a084dd8>"
      ]
     },
     "metadata": {},
     "output_type": "display_data"
    }
   ],
   "source": [
    "plt.hist(spy_df['Close'],normed=True,color='indianred',alpha=0.5,bins=10)\n",
    "plt.hist(dow_df['Close'],normed=True,alpha=0.5,bins=20)\n",
    "plt.hist(goog_df['Close'],normed=True,color='g',alpha=0.5,bins=10)"
   ]
  },
  {
   "cell_type": "code",
   "execution_count": 94,
   "metadata": {
    "collapsed": true
   },
   "outputs": [],
   "source": [
    "#plt.hist(dataset1,normed=True,color='indianred',alpha=0.5,bins=20)\n",
    "#plt.hist(dataset2,normed=True,alpha=0.5,bins=20)\n",
    "#sns.jointplot(data1,data2)\n",
    "#sns.jointplot(data1,data2,kind='hex')\n",
    "#df.plot(kind='scatter',x='DOW',y='GOOG')"
   ]
  },
  {
   "cell_type": "code",
   "execution_count": 145,
   "metadata": {
    "collapsed": true
   },
   "outputs": [],
   "source": [
    "tickers = ['GOOG']\n",
    "panel_data = data.DataReader(tickers, data_source, start_date, end_date)"
   ]
  },
  {
   "cell_type": "code",
   "execution_count": 146,
   "metadata": {
    "collapsed": true
   },
   "outputs": [],
   "source": [
    "goog_df = panel_data.to_frame()"
   ]
  },
  {
   "cell_type": "code",
   "execution_count": 149,
   "metadata": {
    "collapsed": true
   },
   "outputs": [],
   "source": [
    "goog_df = goog_df.reset_index()"
   ]
  },
  {
   "cell_type": "code",
   "execution_count": 150,
   "metadata": {},
   "outputs": [
    {
     "data": {
      "text/html": [
       "<div>\n",
       "<style>\n",
       "    .dataframe thead tr:only-child th {\n",
       "        text-align: right;\n",
       "    }\n",
       "\n",
       "    .dataframe thead th {\n",
       "        text-align: left;\n",
       "    }\n",
       "\n",
       "    .dataframe tbody tr th {\n",
       "        vertical-align: top;\n",
       "    }\n",
       "</style>\n",
       "<table border=\"1\" class=\"dataframe\">\n",
       "  <thead>\n",
       "    <tr style=\"text-align: right;\">\n",
       "      <th></th>\n",
       "      <th>index</th>\n",
       "      <th>Date</th>\n",
       "      <th>minor</th>\n",
       "      <th>Open</th>\n",
       "      <th>High</th>\n",
       "      <th>Low</th>\n",
       "      <th>Close</th>\n",
       "      <th>Volume</th>\n",
       "    </tr>\n",
       "  </thead>\n",
       "  <tbody>\n",
       "    <tr>\n",
       "      <th>0</th>\n",
       "      <td>0</td>\n",
       "      <td>2014-03-27</td>\n",
       "      <td>GOOG</td>\n",
       "      <td>564.86</td>\n",
       "      <td>565.40</td>\n",
       "      <td>550.50</td>\n",
       "      <td>556.58</td>\n",
       "      <td>3826676.0</td>\n",
       "    </tr>\n",
       "    <tr>\n",
       "      <th>1</th>\n",
       "      <td>1</td>\n",
       "      <td>2014-03-28</td>\n",
       "      <td>GOOG</td>\n",
       "      <td>558.94</td>\n",
       "      <td>566.03</td>\n",
       "      <td>558.33</td>\n",
       "      <td>559.51</td>\n",
       "      <td>2258918.0</td>\n",
       "    </tr>\n",
       "    <tr>\n",
       "      <th>2</th>\n",
       "      <td>2</td>\n",
       "      <td>2014-03-31</td>\n",
       "      <td>GOOG</td>\n",
       "      <td>564.63</td>\n",
       "      <td>566.93</td>\n",
       "      <td>555.87</td>\n",
       "      <td>556.70</td>\n",
       "      <td>1942277.0</td>\n",
       "    </tr>\n",
       "    <tr>\n",
       "      <th>3</th>\n",
       "      <td>3</td>\n",
       "      <td>2014-04-01</td>\n",
       "      <td>GOOG</td>\n",
       "      <td>559.57</td>\n",
       "      <td>568.18</td>\n",
       "      <td>558.44</td>\n",
       "      <td>566.88</td>\n",
       "      <td>2182626.0</td>\n",
       "    </tr>\n",
       "    <tr>\n",
       "      <th>4</th>\n",
       "      <td>4</td>\n",
       "      <td>2014-04-02</td>\n",
       "      <td>GOOG</td>\n",
       "      <td>282.43</td>\n",
       "      <td>571.83</td>\n",
       "      <td>561.44</td>\n",
       "      <td>566.98</td>\n",
       "      <td>2088804.0</td>\n",
       "    </tr>\n",
       "  </tbody>\n",
       "</table>\n",
       "</div>"
      ],
      "text/plain": [
       "   index       Date minor    Open    High     Low   Close     Volume\n",
       "0      0 2014-03-27  GOOG  564.86  565.40  550.50  556.58  3826676.0\n",
       "1      1 2014-03-28  GOOG  558.94  566.03  558.33  559.51  2258918.0\n",
       "2      2 2014-03-31  GOOG  564.63  566.93  555.87  556.70  1942277.0\n",
       "3      3 2014-04-01  GOOG  559.57  568.18  558.44  566.88  2182626.0\n",
       "4      4 2014-04-02  GOOG  282.43  571.83  561.44  566.98  2088804.0"
      ]
     },
     "execution_count": 150,
     "metadata": {},
     "output_type": "execute_result"
    }
   ],
   "source": [
    "goog_df.head()"
   ]
  },
  {
   "cell_type": "code",
   "execution_count": 155,
   "metadata": {},
   "outputs": [
    {
     "data": {
      "text/plain": [
       "array([ 91308277.98420002,  91333791.81950001,  91361101.30500001,\n",
       "        91387547.89080001,  91414315.19969998,  91441392.15740001,\n",
       "        91469641.25030001,  91497395.0079    ,  91524286.29180001,\n",
       "        91551460.8574    ,  91577943.03629999,  91605607.6605    ,\n",
       "        91633123.27489999,  91659948.10250001,  91686382.78010002])"
      ]
     },
     "execution_count": 155,
     "metadata": {},
     "output_type": "execute_result"
    }
   ],
   "source": [
    "np.correlate(spy_df['Close'],goog_df['Close'])"
   ]
  },
  {
   "cell_type": "code",
   "execution_count": 156,
   "metadata": {},
   "outputs": [
    {
     "data": {
      "text/plain": [
       "array([ 22435621.9547,  22442516.9861,  22449350.5618,  22456058.5592,\n",
       "        22463356.7442,  22471123.4859,  22479404.1691,  22487448.4956,\n",
       "        22495464.4666,  22503366.9461,  22510284.9264,  22517098.9298,\n",
       "        22523501.7837,  22529435.7077,  22535737.4632])"
      ]
     },
     "execution_count": 156,
     "metadata": {},
     "output_type": "execute_result"
    }
   ],
   "source": [
    "np.correlate(dow_df['Close'],goog_df['Close'])"
   ]
  },
  {
   "cell_type": "code",
   "execution_count": null,
   "metadata": {
    "collapsed": true
   },
   "outputs": [],
   "source": []
  }
 ],
 "metadata": {
  "kernelspec": {
   "display_name": "Python 3",
   "language": "python",
   "name": "python3"
  },
  "language_info": {
   "codemirror_mode": {
    "name": "ipython",
    "version": 3
   },
   "file_extension": ".py",
   "mimetype": "text/x-python",
   "name": "python",
   "nbconvert_exporter": "python",
   "pygments_lexer": "ipython3",
   "version": "3.6.1"
  }
 },
 "nbformat": 4,
 "nbformat_minor": 2
}
