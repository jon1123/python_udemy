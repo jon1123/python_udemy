{
 "cells": [
  {
   "cell_type": "markdown",
   "metadata": {},
   "source": [
    "# Widget_Styling"
   ]
  },
  {
   "cell_type": "code",
   "execution_count": 2,
   "metadata": {
    "collapsed": true
   },
   "outputs": [],
   "source": [
    "import ipywidgets as widgets\n",
    "from IPython.display import display"
   ]
  },
  {
   "cell_type": "code",
   "execution_count": 13,
   "metadata": {},
   "outputs": [
    {
     "data": {
      "text/html": [
       "<style>\n",
       ".example-container { background: #999999; padding: 2px; min-height: 100px; }\n",
       ".example-container.sm { min-height: 50px; }\n",
       ".example-box { background: #9999FF; width: 50px; height: 50px; text-align: center; vertical-align: middle; color: white; font-weight: bold; margin: 2px;}\n",
       ".example-box.med { width: 65px; height: 65px; }   \n",
       ".example-box.lrg { width: 80px; height: 80px; }   \n",
       "</style>"
      ],
      "text/plain": [
       "<IPython.core.display.HTML object>"
      ]
     },
     "metadata": {},
     "output_type": "display_data"
    }
   ],
   "source": [
    "%%html\n",
    "<style>\n",
    ".example-container { background: #999999; padding: 2px; min-height: 100px; }\n",
    ".example-container.sm { min-height: 50px; }\n",
    ".example-box { background: #9999FF; width: 50px; height: 50px; text-align: center; vertical-align: middle; color: white; font-weight: bold; margin: 2px;}\n",
    ".example-box.med { width: 65px; height: 65px; }   \n",
    ".example-box.lrg { width: 80px; height: 80px; }   \n",
    "</style>"
   ]
  },
  {
   "cell_type": "code",
   "execution_count": 14,
   "metadata": {},
   "outputs": [
    {
     "data": {
      "application/vnd.jupyter.widget-view+json": {
       "model_id": "eecb224a6f5a4ac98f50911d8d543f12"
      }
     },
     "metadata": {},
     "output_type": "display_data"
    }
   ],
   "source": [
    "button = widgets.Button(\n",
    "    description='Hello World!',\n",
    "    width=100, # Integers are interpreted as pixel measurements.\n",
    "    height='2em', # em is valid HTML unit of measurement.\n",
    "    color='green', # Colors can be set by name,\n",
    "    background_color='#0022FF', # and also by color code.\n",
    "    border_color='red')\n",
    "display(button)"
   ]
  },
  {
   "cell_type": "code",
   "execution_count": 4,
   "metadata": {},
   "outputs": [
    {
     "data": {
      "application/vnd.jupyter.widget-view+json": {
       "model_id": "6e8814fa58784f32a55cba0b335c3fa3"
      }
     },
     "metadata": {},
     "output_type": "display_data"
    }
   ],
   "source": [
    "float_range = widgets.FloatSlider()\n",
    "string = widgets.Text(value='hi')\n",
    "container = widgets.Box(children=[float_range, string])\n",
    "\n",
    "container.border_color = 'red'\n",
    "container.border_style = 'dotted'\n",
    "container.border_width = 3\n",
    "display(container) # Displays the `container` and all of it's children."
   ]
  },
  {
   "cell_type": "code",
   "execution_count": 5,
   "metadata": {},
   "outputs": [
    {
     "data": {
      "application/vnd.jupyter.widget-view+json": {
       "model_id": "c49542af180a40ef9e5d4374ed47dbd9"
      }
     },
     "metadata": {},
     "output_type": "display_data"
    }
   ],
   "source": [
    "container = widgets.Box()\n",
    "container.border_color = 'red'\n",
    "container.border_style = 'dotted'\n",
    "container.border_width = 3\n",
    "display(container)\n",
    "\n",
    "int_range = widgets.IntSlider()\n",
    "container.children=[int_range]"
   ]
  },
  {
   "cell_type": "code",
   "execution_count": 6,
   "metadata": {},
   "outputs": [
    {
     "data": {
      "application/vnd.jupyter.widget-view+json": {
       "model_id": "24dbb8fa82f245fdad11771bbfc46157"
      }
     },
     "metadata": {},
     "output_type": "display_data"
    }
   ],
   "source": [
    "name1 = widgets.Text(description='Location:')\n",
    "zip1 = widgets.BoundedIntText(description='Zip:', min=0, max=99999)\n",
    "page1 = widgets.Box(children=[name1, zip1])\n",
    "\n",
    "name2 = widgets.Text(description='Location:')\n",
    "zip2 = widgets.BoundedIntText(description='Zip:', min=0, max=99999)\n",
    "page2 = widgets.Box(children=[name2, zip2])\n",
    "\n",
    "accord = widgets.Accordion(children=[page1, page2], width=400)\n",
    "display(accord)\n",
    "\n",
    "accord.set_title(0, 'From')\n",
    "accord.set_title(1, 'To')"
   ]
  },
  {
   "cell_type": "code",
   "execution_count": 7,
   "metadata": {},
   "outputs": [
    {
     "data": {
      "application/vnd.jupyter.widget-view+json": {
       "model_id": "8e2e765c1c7a46a3b9fcc2dfdcdb269f"
      }
     },
     "metadata": {},
     "output_type": "display_data"
    }
   ],
   "source": [
    "name = widgets.Text(description='Name:', padding=4)\n",
    "color = widgets.Dropdown(description='Color:', padding=4, options=['red', 'orange', 'yellow', 'green', 'blue', 'indigo', 'violet'])\n",
    "page1 = widgets.Box(children=[name, color], padding=4)\n",
    "\n",
    "age = widgets.IntSlider(description='Age:', padding=4, min=0, max=120, value=50)\n",
    "gender = widgets.RadioButtons(description='Gender:', padding=4, options=['male', 'female'])\n",
    "page2 = widgets.Box(children=[age, gender], padding=4)\n",
    "\n",
    "tabs = widgets.Tab(children=[page1, page2])\n",
    "display(tabs)\n",
    "\n",
    "tabs.set_title(0, 'Name')\n",
    "tabs.set_title(1, 'Details')"
   ]
  },
  {
   "cell_type": "code",
   "execution_count": 15,
   "metadata": {},
   "outputs": [
    {
     "data": {
      "application/vnd.jupyter.widget-view+json": {
       "model_id": "ac6fd236deb54bcf93bfb9b72c91ce25"
      }
     },
     "metadata": {},
     "output_type": "display_data"
    },
    {
     "data": {
      "application/vnd.jupyter.widget-view+json": {
       "model_id": "8db10a17c884400dadb42c451b30cd61"
      }
     },
     "metadata": {},
     "output_type": "display_data"
    },
    {
     "data": {
      "application/vnd.jupyter.widget-view+json": {
       "model_id": "17a463db274d4dddb8f36a07bb79027f"
      }
     },
     "metadata": {},
     "output_type": "display_data"
    }
   ],
   "source": [
    "display(widgets.Text(description=\"a:\"))\n",
    "display(widgets.Text(description=\"aa:\"))\n",
    "display(widgets.Text(description=\"aaa:\"))"
   ]
  },
  {
   "cell_type": "code",
   "execution_count": 23,
   "metadata": {},
   "outputs": [
    {
     "data": {
      "application/vnd.jupyter.widget-view+json": {
       "model_id": "436ac0f2191c4e7db3572af2c1ee10ee"
      }
     },
     "metadata": {},
     "output_type": "display_data"
    },
    {
     "data": {
      "application/vnd.jupyter.widget-view+json": {
       "model_id": "03ad3121819d4214bd60f1b226e3e80d"
      }
     },
     "metadata": {},
     "output_type": "display_data"
    },
    {
     "data": {
      "application/vnd.jupyter.widget-view+json": {
       "model_id": "d3d357d17bbc444ab8d0fd8a56cf94a0"
      }
     },
     "metadata": {},
     "output_type": "display_data"
    },
    {
     "data": {
      "application/vnd.jupyter.widget-view+json": {
       "model_id": "0b6783d64e1248148fb49485af709c1a"
      }
     },
     "metadata": {},
     "output_type": "display_data"
    }
   ],
   "source": [
    "display(widgets.Text(description=\"a:\"))\n",
    "display(widgets.Text(description=\"aa:\"))\n",
    "display(widgets.Text(description=\"aaa:\"))\n",
    "display(widgets.Text(description=\"aaaaaaaaaaaa:\"))"
   ]
  },
  {
   "cell_type": "code",
   "execution_count": 17,
   "metadata": {},
   "outputs": [
    {
     "data": {
      "application/vnd.jupyter.widget-view+json": {
       "model_id": "1f064088b09a4adeb5b933fe32141a4c"
      }
     },
     "metadata": {},
     "output_type": "display_data"
    },
    {
     "data": {
      "application/vnd.jupyter.widget-view+json": {
       "model_id": "75fabc2dece14ab0bf56da0ab8104925"
      }
     },
     "metadata": {},
     "output_type": "display_data"
    },
    {
     "data": {
      "application/vnd.jupyter.widget-view+json": {
       "model_id": "0d37c7eedc5f4f018a056722d10d8b2f"
      }
     },
     "metadata": {},
     "output_type": "display_data"
    },
    {
     "data": {
      "application/vnd.jupyter.widget-view+json": {
       "model_id": "d16056066be748e0af3e7b15f6fc6441"
      }
     },
     "metadata": {},
     "output_type": "display_data"
    }
   ],
   "source": [
    "display(widgets.Text(description=\"a:\"))\n",
    "display(widgets.Text(description=\"aa:\"))\n",
    "display(widgets.Text(description=\"aaa:\"))\n",
    "display(widgets.Text())"
   ]
  },
  {
   "cell_type": "code",
   "execution_count": 24,
   "metadata": {},
   "outputs": [
    {
     "data": {
      "application/vnd.jupyter.widget-view+json": {
       "model_id": "8a92c80eb3754be5bfd2e3f2c932241a"
      }
     },
     "metadata": {},
     "output_type": "display_data"
    },
    {
     "data": {
      "application/vnd.jupyter.widget-view+json": {
       "model_id": "370c26865fd1427fa1da583884c860ef"
      }
     },
     "metadata": {},
     "output_type": "display_data"
    },
    {
     "data": {
      "application/vnd.jupyter.widget-view+json": {
       "model_id": "63c0ffc60d97499a8b1afb3ad404a35a"
      }
     },
     "metadata": {},
     "output_type": "display_data"
    }
   ],
   "source": [
    "buttons = [widgets.Button(description=str(i)) for i in range(3)]\n",
    "display(*buttons)"
   ]
  },
  {
   "cell_type": "code",
   "execution_count": 19,
   "metadata": {},
   "outputs": [
    {
     "data": {
      "application/vnd.jupyter.widget-view+json": {
       "model_id": "cacff479129642f094ea34b7d65fffdc"
      }
     },
     "metadata": {},
     "output_type": "display_data"
    }
   ],
   "source": [
    "container = widgets.HBox(children=buttons)\n",
    "display(container)"
   ]
  },
  {
   "cell_type": "code",
   "execution_count": 21,
   "metadata": {},
   "outputs": [
    {
     "data": {
      "application/vnd.jupyter.widget-view+json": {
       "model_id": "2510afdef0c44a90942e074ce1084e88"
      }
     },
     "metadata": {},
     "output_type": "display_data"
    },
    {
     "name": "stderr",
     "output_type": "stream",
     "text": [
      "C:\\Users\\jonmk\\Anaconda3\\lib\\site-packages\\ipykernel_launcher.py:20: DeprecationWarning: on_trait_change is deprecated in traitlets 4.1: use observe instead\n"
     ]
    }
   ],
   "source": [
    "form = widgets.VBox()\n",
    "first = widgets.Text(description=\"First:\")\n",
    "last = widgets.Text(description=\"Last:\")\n",
    "\n",
    "student = widgets.Checkbox(description=\"Student:\", value=False)\n",
    "school_info = widgets.VBox(visible=False, children=[\n",
    "    widgets.Text(description=\"School:\"),\n",
    "    widgets.IntText(description=\"Grade:\", min=0, max=12)\n",
    "    ])\n",
    "\n",
    "pet = widgets.Text(description=\"Pet:\")\n",
    "form.children = [first, last, student, school_info, pet]\n",
    "display(form)\n",
    "\n",
    "def on_student_toggle(name, value):\n",
    "    if value:\n",
    "        school_info.visible = True\n",
    "    else:\n",
    "        school_info.visible = False\n",
    "student.on_trait_change(on_student_toggle, 'value')"
   ]
  },
  {
   "cell_type": "code",
   "execution_count": null,
   "metadata": {
    "collapsed": true
   },
   "outputs": [],
   "source": []
  }
 ],
 "metadata": {
  "kernelspec": {
   "display_name": "Python 3",
   "language": "python",
   "name": "python3"
  },
  "language_info": {
   "codemirror_mode": {
    "name": "ipython",
    "version": 3
   },
   "file_extension": ".py",
   "mimetype": "text/x-python",
   "name": "python",
   "nbconvert_exporter": "python",
   "pygments_lexer": "ipython3",
   "version": "3.6.1"
  }
 },
 "nbformat": 4,
 "nbformat_minor": 2
}
